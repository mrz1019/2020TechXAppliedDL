{
 "cells": [
  {
   "cell_type": "markdown",
   "metadata": {},
   "source": [
    "# Week 1 Quiz Problems\n",
    "##  07-19-2020\n",
    "## Explain your code with comments!"
   ]
  },
  {
   "cell_type": "markdown",
   "metadata": {},
   "source": [
    "## Question 1\n",
    "*This question intends to test the examinees' ability to manipulate lists*\n",
    "\n",
    "__You will be given a list of number, and you are to write a function: permutations() that return a list of lists that contains all unique permutations of the given input list__\n",
    "\n",
    "__Example:__\n",
    "\n",
    "__input:__  [1, 2, 3]\n",
    "\n",
    "__output:__      [[1,2,3],\n",
    "                  [1,3,2],\n",
    "                  [2,1,3],\n",
    "                  [2,3,1],\n",
    "                  [3,1,2],\n",
    "                  [3,2,1]]"
   ]
  },
  {
   "cell_type": "code",
   "execution_count": 1,
   "metadata": {},
   "outputs": [],
   "source": [
    "def permutations(input_list):\n",
    "    raise NotImplementedError(\"Please implement this solution function\")"
   ]
  },
  {
   "cell_type": "code",
   "execution_count": null,
   "metadata": {},
   "outputs": [],
   "source": []
  },
  {
   "cell_type": "markdown",
   "metadata": {},
   "source": [
    "## Question 2\n",
    "*This question intends to test the examinees' ability to manipulate lists*\n",
    "\n",
    "Consider the code below.\n",
    "\n",
    "Add a few lines of code to make the function match its docstring description.\n",
    "\n",
    "Disclaimer: this quiz problems is taken and modified from the Coursera course \"Learn to Program: The Fundamentals\". All materials are copyright of Jennifer Campbell and Paul Gries, University of Toronto."
   ]
  },
  {
   "cell_type": "code",
   "execution_count": 2,
   "metadata": {},
   "outputs": [],
   "source": [
    "def make_pairs(list1, list2):\n",
    "    ''' (list of str, list of int) -> list of [str, int] list\n",
    "\n",
    "    Return a new list in which each item is a 2-item list with the string from the \n",
    "    corresponding position of list1 and the int from the corresponding position of list2.\n",
    "\n",
    "    Precondition: len(list1) == len(list2)\n",
    "\n",
    "    >>> make_pairs(['A', 'B', 'C'], [1, 2, 3])\n",
    "    [['A', 1], ['B', 2], ['C', 3]]\n",
    "    '''\n",
    "\n",
    "    pairs = []\n",
    "\n",
    "    # CODE MISSING HERE\n",
    "\n",
    "    return pairs"
   ]
  },
  {
   "cell_type": "code",
   "execution_count": null,
   "metadata": {},
   "outputs": [],
   "source": []
  },
  {
   "cell_type": "markdown",
   "metadata": {},
   "source": [
    "## Question 3\n",
    "\n",
    "*This question intends to test the examinees' ability to manipulate lists*\n",
    "\n",
    "__You are given an 3 x 3 2D matrix representing an image.Rotate the image by 90 degrees (clockwise).__\n",
    "\n",
    "__Example:__\n",
    "\n",
    "__input:__  \n",
    "[\n",
    "  [1,2,3],\n",
    "  \n",
    "  [4,5,6],\n",
    "  \n",
    "  [7,8,9]\n",
    "]\n",
    "\n",
    "__output:__  \n",
    "[\n",
    "  [7,4,1],\n",
    "  \n",
    "  [8,5,2],\n",
    "  \n",
    "  [9,6,3]\n",
    "]"
   ]
  },
  {
   "cell_type": "code",
   "execution_count": 4,
   "metadata": {},
   "outputs": [],
   "source": [
    "def rotate(matrix):\n",
    "    #Todo\n"
   ]
  },
  {
   "cell_type": "code",
   "execution_count": null,
   "metadata": {},
   "outputs": [],
   "source": [
    "assert(rotate([\n",
    "    [1,2,3],\n",
    "    [4,5,6],\n",
    "    [7,8,9]\n",
    "]) == [\n",
    "    [7,4,1],\n",
    "    [8,5,2],\n",
    "    [9,6,3]\n",
    "])\n",
    "\n",
    "assert(rotate([\n",
    "    [1,4,7],\n",
    "    [2,3,6],\n",
    "    [5,8,9]\n",
    "]) == [\n",
    "    [5,2,1],\n",
    "    [8,3,4],\n",
    "    [9,6,7]\n",
    "])\n",
    "\n",
    "print(\"Passed all tests!\")"
   ]
  },
  {
   "cell_type": "markdown",
   "metadata": {},
   "source": [
    "### Challenge\n",
    "\n",
    "__You are given an n x n 2D matrix representing an image.Rotate the image by 90 degrees (clockwise).__\n",
    "hint：numpy.rot90())"
   ]
  },
  {
   "cell_type": "code",
   "execution_count": 5,
   "metadata": {},
   "outputs": [],
   "source": [
    "import numpy as np\n",
    "def rotate_v2(matrix):\n",
    "    #Todo\n",
    "    \n",
    "    "
   ]
  },
  {
   "cell_type": "code",
   "execution_count": null,
   "metadata": {},
   "outputs": [],
   "source": [
    "assert(rotate_v2([\n",
    "    [1,2,3],\n",
    "    [4,5,6],\n",
    "    [7,8,9]\n",
    "]) == [\n",
    "    [7,4,1],\n",
    "    [8,5,2],\n",
    "    [9,6,3]\n",
    "])\n",
    "\n",
    "assert(rotate_v2([\n",
    "    [1,4,7],\n",
    "    [2,3,6],\n",
    "    [5,8,9]\n",
    "]) == [\n",
    "    [5,2,1],\n",
    "    [8,3,4],\n",
    "    [9,6,7]\n",
    "])\n",
    "\n",
    "assert(rotate_v2([\n",
    "  [ 5, 1, 9,11],\n",
    "  [ 2, 4, 8,10],\n",
    "  [13, 3, 6, 7],\n",
    "  [15,14,12,16]\n",
    "]) == [\n",
    "  [15,13, 2, 5],\n",
    "  [14, 3, 4, 1],\n",
    "  [12, 6, 8, 9],\n",
    "  [16, 7,10,11]\n",
    "])\n",
    "\n",
    "print(\"Passed all tests!\")"
   ]
  },
  {
   "cell_type": "code",
   "execution_count": null,
   "metadata": {},
   "outputs": [],
   "source": []
  },
  {
   "cell_type": "markdown",
   "metadata": {},
   "source": [
    "## Q4: Build Vocab\n",
    "\n",
    "Write a function build_vocab() . \n",
    "\n",
    "__Input: an English sentence__\n",
    "\n",
    "__Output: A Python dictionary containing all different lowercased words and punctuations, together with the number of occurrences.__\n",
    "\n",
    "__Example:__\n",
    "\n",
    "__Input: \"I enjoyed the lecture by the famous researcher yesterday.\"__\n",
    "\n",
    "__Output:\n",
    "{\n",
    "'i': 1,\n",
    "'enjoyed': 1,\n",
    "'the': 2,\n",
    "'lecture': 1,\n",
    "'by': 1,\n",
    "'famous': 1,\n",
    "'researcher': 1,\n",
    "'yesterday': 1,\n",
    "'.': 1\n",
    "}__\n",
    "\n",
    "__Note: Do not forget the period at the end!__"
   ]
  },
  {
   "cell_type": "code",
   "execution_count": 3,
   "metadata": {},
   "outputs": [],
   "source": [
    "def build_vocab():\n",
    "    #Todo\n",
    "    pass"
   ]
  },
  {
   "cell_type": "markdown",
   "metadata": {},
   "source": [
    "## Q5: Challenge!\n",
    "\n",
    "Write a stemmer function. (There are open-sourced tools for this, but please try to implement by yourself first.)\n",
    "\n",
    "This question is optional, but highly recommended for those interested in Natural Language Processing (Q4 as well).\n",
    "\n",
    "A stemmer returns a word to its stem (sort of like root word). See this page for the explanation: https://baike.baidu.com/item/%E8%AF%8D%E5%B9%B2%E6%8F%90%E5%8F%96/22776974?fr=aladdin\n",
    "\n",
    "__For example:__\n",
    "\n",
    "Input: \"enjoyed\" -> Output: \"enjoy\"\n",
    "\n",
    "Input: \"taller\" -> Output: \"tall\"\n",
    "\n",
    "Input: \"created\" -> Output: \"create\"\n",
    "\n",
    "Input: \"feed\" -> Output: \"feed\"\n",
    "\n",
    "Input: \"complicating\" -> Output: \"complicat\" (You don't have to restore it to \"complicate\".)\n",
    "\n",
    "Sometimes the stemmer may not produce a proper word (like the example above for the word \"complicating\"). But it's ok because the purpose of stemming is to bring variant forms of a word together.\n",
    "\n",
    "__Note: There may not be a perfect solution (because human language has so many different variations and 'special cases', which also makes NLP interesting), a simple rule-based system is sufficient. Try to cover as many cases as possible.__\n",
    "\n",
    "A few hints: you can start with some cases:\n",
    "\n",
    "e.g.,\n",
    "\n",
    "Noun Singular / Plural \n",
    "\n",
    "Verb Tense (e.g., past tense, 3rd person singular)\n",
    "\n",
    "Adj./Adv. Comparative/Superlative \n",
    "\n",
    "And you can also consider whether the existence of vowels(元音字母) in certain positions of the word could affect the result. Feel free to do more research on this!"
   ]
  },
  {
   "cell_type": "code",
   "execution_count": 4,
   "metadata": {},
   "outputs": [],
   "source": [
    "def stemmer():\n",
    "    #TODO\n",
    "    pass"
   ]
  },
  {
   "cell_type": "code",
   "execution_count": null,
   "metadata": {},
   "outputs": [],
   "source": []
  }
 ],
 "metadata": {
  "kernelspec": {
   "display_name": "Python 3",
   "language": "python",
   "name": "python3"
  },
  "language_info": {
   "codemirror_mode": {
    "name": "ipython",
    "version": 3
   },
   "file_extension": ".py",
   "mimetype": "text/x-python",
   "name": "python",
   "nbconvert_exporter": "python",
   "pygments_lexer": "ipython3",
   "version": "3.6.3"
  }
 },
 "nbformat": 4,
 "nbformat_minor": 4
}
